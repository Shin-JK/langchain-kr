{
 "cells": [
  {
   "cell_type": "code",
   "execution_count": null,
   "metadata": {},
   "outputs": [],
   "source": [
    "import pandas as pd\n",
    "import gspread\n",
    "\n",
    "from typing import Any\n",
    "\n",
    "json_file_path = \"./data/drive-sheet-01.json\""
   ]
  },
  {
   "cell_type": "code",
   "execution_count": null,
   "metadata": {},
   "outputs": [],
   "source": [
    "def googleSpreadData(url: str) -> Any:\n",
    "    if url is None:\n",
    "        return None\n",
    "\n",
    "    gc = gspread.service_account(filename=json_file_path)\n",
    "    # url = url\n",
    "\n",
    "    ## 4. PythonSheet url을 바탕으로 스프레드 시트를 열고,\n",
    "    doc = gc.open_by_url(url)\n",
    "\n",
    "    workDf = pd.DataFrame()\n",
    "    # print(doc.worksheets()[0].title)\n",
    "    for sheet in doc.worksheets():\n",
    "        print(sheet.title)\n",
    "        data = doc.worksheet(sheet.title).get_all_values()\n",
    "        df = pd.DataFrame(data[1:], columns=data[0])\n",
    "        df[\"name\"] = sheet.title\n",
    "        workDf = pd.concat([workDf, df], ignore_index=True)\n",
    "    # print(workDf)\n",
    "\n",
    "    return workDf"
   ]
  },
  {
   "cell_type": "code",
   "execution_count": null,
   "metadata": {},
   "outputs": [],
   "source": [
    "from langchain.tools import tool\n",
    "\n",
    "\n",
    "\n",
    "@tool\n",
    "\n",
    "def searchSheetData(query: str) -> str:\n",
    "    \"\"\"Search for things done by person's name\"\"\"\n",
    "\n",
    "\n",
    "    url = \"https://docs.google.com/spreadsheets/d/1rW-nTz7P69BHGCtp0amownjnuc2OJmFzJrQFoAfeKnc\"\n",
    "\n",
    "    dataDf = googleSpreadData(url)\n",
    "\n",
    "    print(dataDf.head())\n",
    "\n",
    "    return None"
   ]
  },
  {
   "cell_type": "code",
   "execution_count": null,
   "metadata": {},
   "outputs": [],
   "source": [
    "searchSheetData.invoke({\"query\": \"\"})"
   ]
  },
  {
   "cell_type": "markdown",
   "metadata": {},
   "source": [
    "### CSV-Excel-Agent 사용해보기"
   ]
  },
  {
   "cell_type": "code",
   "execution_count": null,
   "metadata": {},
   "outputs": [],
   "source": [
    "# from langchain_experimental.tools import PythonAstREPLTool\n",
    "\n",
    "# # 파이썬 코드를 실행하는 도구를 생성합니다.\n",
    "# python_tool = PythonAstREPLTool()\n",
    "\n",
    "url = \"https://docs.google.com/spreadsheets/d/1rW-nTz7P69BHGCtp0amownjnuc2OJmFzJrQFoAfeKnc\"\n",
    "df = googleSpreadData(url)"
   ]
  },
  {
   "cell_type": "code",
   "execution_count": 12,
   "metadata": {},
   "outputs": [],
   "source": [
    "from langchain_experimental.agents.agent_toolkits import create_pandas_dataframe_agent\n",
    "from langchain.agents.agent_types import AgentType\n",
    "from langchain_openai import ChatOpenAI\n",
    "from langchain_ollama import ChatOllama\n",
    "from langchain_teddynote.messages import AgentStreamParser, AgentCallbacks\n",
    "\n",
    "agent = create_pandas_dataframe_agent(\n",
    "    ChatOllama(\n",
    "        base_url=\"http://172.26.81.72:11434\",\n",
    "        # model=\"gemma2:27b\",\n",
    "        model=\"llama3.1:latest\",\n",
    "        temperature=0.0,\n",
    "        top_k=50,\n",
    "        top_p=0.9,\n",
    "        streaming=False,\n",
    "    ),\n",
    "    df,\n",
    "    verbose=False,\n",
    "    agent_type=\"tool-calling\",\n",
    "    allow_dangerous_code=True,\n",
    "    prefix=\"You are a professional data analyst and expert in Pandas. \"\n",
    "    \"You must use Pandas DataFrame(`df`) to answer user's request. \"\n",
    "    \"\\n\\n[IMPORTANT] DO NOT create or overwrite the `df` variable in your code. \\n\\n\"\n",
    "    \"If you are willing to generate visualization code, please use `plt.show()` at the end of your code. \"\n",
    "    \"I prefer seaborn code for visualization, but you can use matplotlib as well.\",\n",
    ")\n",
    "\n",
    "# parser_callback = AgentCallbacks(tool_callback, observation_callback, result_callback)\n",
    "# stream_parser = AgentStreamParser(parser_callback)"
   ]
  },
  {
   "cell_type": "code",
   "execution_count": null,
   "metadata": {},
   "outputs": [],
   "source": [
    "def ask(query):\n",
    "    # 질의에 대한 답변을 출력합니다.\n",
    "    response = agent.stream({\"input\": query})\n",
    "\n",
    "    for step in response:\n",
    "        # stream_parser.process_agent_steps(step)\n",
    "        print(step)"
   ]
  },
  {
   "cell_type": "code",
   "execution_count": null,
   "metadata": {},
   "outputs": [],
   "source": [
    "ask(\"몇 개의 행이 있어?\")"
   ]
  },
  {
   "cell_type": "code",
   "execution_count": null,
   "metadata": {},
   "outputs": [],
   "source": [
    "ask(\n",
    "    \"서울 여의도에서 시작하는 코스 이름들과 가장 긴 거리의 코스가 어디이고 몇 km인지 알려줘\"\n",
    ")"
   ]
  },
  {
   "cell_type": "code",
   "execution_count": null,
   "metadata": {},
   "outputs": [],
   "source": [
    "ask(\n",
    "    \"거리가 가장 짧은 코스는 어디서 부터 어디까지 인지, 그리고 그 거리와 코스이름, 코스 설계자를 알려줘\"\n",
    ")"
   ]
  },
  {
   "cell_type": "code",
   "execution_count": null,
   "metadata": {},
   "outputs": [],
   "source": [
    "ask(\"거리가 가장 짧은 코스들은 몇 km인지와 코스 이름들, 시작지점 종료지점을 알려줘.\")"
   ]
  },
  {
   "cell_type": "markdown",
   "metadata": {},
   "source": [
    "# SQLAgent 만들어 보기!!!"
   ]
  },
  {
   "cell_type": "code",
   "execution_count": 1,
   "metadata": {},
   "outputs": [
    {
     "data": {
      "text/plain": [
       "True"
      ]
     },
     "execution_count": 1,
     "metadata": {},
     "output_type": "execute_result"
    }
   ],
   "source": [
    "# API 키를 환경변수로 관리하기 위한 설정 파일\n",
    "from dotenv import load_dotenv\n",
    "\n",
    "# API 키 정보 로드\n",
    "load_dotenv()"
   ]
  },
  {
   "cell_type": "code",
   "execution_count": 2,
   "metadata": {},
   "outputs": [],
   "source": [
    "import psycopg2 as pg\n",
    "from langchain_ollama import ChatOllama\n",
    "from langchain_openai import ChatOpenAI\n",
    "from langchain_community.utilities.sql_database import SQLDatabase\n",
    "from langchain_community.agent_toolkits.sql.toolkit import SQLDatabaseToolkit\n",
    "from langchain_community.agent_toolkits.sql.base import create_sql_agent"
   ]
  },
  {
   "cell_type": "code",
   "execution_count": 3,
   "metadata": {},
   "outputs": [
    {
     "name": "stdout",
     "output_type": "stream",
     "text": [
      "<langchain_community.utilities.sql_database.SQLDatabase object at 0x0000020FBF2185D0>\n"
     ]
    }
   ],
   "source": [
    "# DB접속 시 'postgresql+psycopg2://[계정]:[암호]@[서버:포트]/[db명]\n",
    "db = SQLDatabase.from_uri(\"postgresql+psycopg2://ndschat:1@172.26.81.43:5432/ndsdb\")\n",
    "print(db)"
   ]
  },
  {
   "cell_type": "code",
   "execution_count": 48,
   "metadata": {},
   "outputs": [],
   "source": [
    "llm = ChatOllama(\n",
    "    base_url=\"http://172.26.81.72:11434\",\n",
    "    # model=\"gemma2:27b\",\n",
    "    model=\"llama3.1:latest\",\n",
    "    temperature=0.0,\n",
    "    top_k=10,\n",
    "    top_p=0.9,\n",
    "    streaming=False,\n",
    ")\n",
    "# llm = ChatOpenAI(model=\"gpt-4o-mini\", temperature=0)\n",
    "\n",
    "toolkit = SQLDatabaseToolkit(db=db, llm=llm)\n",
    "\n",
    "# prefix는 https://smith.langchain.com/hub/langchain-ai/sql-agent-system-prompt 가져옴.\n",
    "# 반드시 dialect, top_k 가 포함되어야 함\n",
    "agent_executor = create_sql_agent(\n",
    "    llm=llm,\n",
    "    toolkit=toolkit,\n",
    "    verbose=True,\n",
    "    prefix=\"You are an agent designed to interact with a SQL database.\\n\"\n",
    "    \"Given an input question, create a syntactically correct {dialect} query to run, then look at the results of the query and return the answer.\\n\"\n",
    "    \"Unless the user specifies a specific number of examples they wish to obtain, always limit your query to at most {top_k} results.\\n\"\n",
    "    \"You can order the results by a relevant column to return the most interesting examples in the database.\\n\"\n",
    "    \"Never query for all the columns from a specific table, only ask for the relevant columns given the question.\\n\"\n",
    "    \"You have access to tools for interacting with the database.\\n\"\n",
    "    \"If you have single quotes in your SQL, make sure that the opening and closing quotes are paired.\\n\"\n",
    "    \"Be sure to add the 'public.' keyword to tables in the 'from' clause of SQL.\\n\"\n",
    "    \"Be sure to include the table alias in the columns of the SELECT statement. ex) u.id, c.id\\n\"\n",
    "    \"Each table's 'id' column is mapping others 'id' column.\\n\"\n",
    "    \"Even if you have questions in the results column, don't do any additional work to find answers to those questions.\\n\"\n",
    "    \"Only use the below tools. Only use the information returned by the below tools to construct your final answer.\\n\"\n",
    "    \"You MUST double check your query before executing it. If you get an error while executing a query, rewrite the query and try again.\\n\\n\"\n",
    "    \"DO NOT make any DML statements (INSERT, UPDATE, DELETE, DROP etc.) to the database.\\n\\n\"\n",
    "    \"To start you should ALWAYS look at the tables in the database to see what you can query.\\n\"\n",
    "    \"Do NOT skip this step.\\n\"\n",
    "    \"Then you should query the schema of the most relevant tables.\\n\"\n",
    "    \"Please answer user question in Korean(Hangul)\",\n",
    "    top_k=5,\n",
    "    # max_iterations=5,\n",
    ")"
   ]
  },
  {
   "cell_type": "code",
   "execution_count": 50,
   "metadata": {},
   "outputs": [
    {
     "name": "stdout",
     "output_type": "stream",
     "text": [
      "\n",
      "\n",
      "\u001b[1m> Entering new SQL Agent Executor chain...\u001b[0m\n",
      "\u001b[32;1m\u001b[1;3mAction: sql_db_list_tables\n",
      "Action Input:\u001b[0m\u001b[38;5;200m\u001b[1;3mchat_history_insa, chat_history_rule, user\u001b[0m\u001b[32;1m\u001b[1;3mAction: sql_db_schema\n",
      "Action Input: user, chat_history_insa\u001b[0m\u001b[33;1m\u001b[1;3m\n",
      "CREATE TABLE \"user\" (\n",
      "\tid VARCHAR NOT NULL, \n",
      "\tname VARCHAR NOT NULL, \n",
      "\tpw VARCHAR NOT NULL, \n",
      "\tgrp VARCHAR, \n",
      "\tallow VARCHAR, \n",
      "\tcreate_date TIMESTAMP WITHOUT TIME ZONE, \n",
      "\tmenu VARCHAR DEFAULT '1000000000'::character varying, \n",
      "\tCONSTRAINT user_pk PRIMARY KEY (id)\n",
      ")\n",
      "\n",
      "/*\n",
      "3 rows from user table:\n",
      "id\tname\tpw\tgrp\tallow\tcreate_date\tmenu\n",
      "0510190\t신재경\t1\tDT개발팀\t승인\tNone\t1000000000\n",
      "*/\n",
      "\n",
      "\n",
      "CREATE TABLE chat_history_insa (\n",
      "\tid VARCHAR NOT NULL, \n",
      "\tseq INTEGER NOT NULL, \n",
      "\tchat_date VARCHAR NOT NULL, \n",
      "\tquestion VARCHAR, \n",
      "\tanswer VARCHAR, \n",
      "\tsource_documents VARCHAR, \n",
      "\tfill VARCHAR, \n",
      "\tfeedback VARCHAR, \n",
      "\tcreate_date TIMESTAMP WITHOUT TIME ZONE, \n",
      "\tupdate_date TIMESTAMP WITHOUT TIME ZONE, \n",
      "\tCONSTRAINT chat_history_unique UNIQUE (id, seq)\n",
      ")\n",
      "\n",
      "/*\n",
      "3 rows from chat_history_insa table:\n",
      "id\tseq\tchat_date\tquestion\tanswer\tsource_documents\tfill\tfeedback\tcreate_date\tupdate_date\n",
      "0510190\t1\t20241108\t퇴사규정 알려줘\t저는 NDS규정을 알려주는 챗봇입니다.\n",
      "퇴사규정 알려줘의 질문에 해당하는 답변을 드리겠습니다.\n",
      "\n",
      "NDS의 퇴사 규정은 다음과 같습니다:\n",
      "\n",
      "1. **의원면직**: 직원이 퇴직하고자 \t\tgood\t\t2024-11-08 19:15:46\t2024-11-08 19:16:49\n",
      "0510190\t2\t20241111\t신입사원 인턴기간은 얼마나 돼?\t저는 NDS규정을 알려주는 챗봇입니다.\n",
      "신입사원 인턴기간은 얼마나 돼?의 질문에 해당하는 답변을 드리겠습니다.\n",
      "\n",
      "주어진 문서에서는 신입사원의 인턴기간에 대한 구체적인 내용이 언급되\t\tNone\tNone\t2024-11-11 10:31:06\tNone\n",
      "0510190\t7\t20241112\t전배 신청 절차 좀 알려줘\t죄송하지만, 제공된 문서에는 전배 신청 절차에 대한 정보가 포함되어 있지 않습니다. 따라서 관련 근거를 제공할 수 없습니다. 다른 질문이 있으시면 언제든지 말씀해 주세요.\t\tNone\tNone\t2024-11-12 09:07:21\tNone\n",
      "*/\u001b[0m\u001b[32;1m\u001b[1;3mAction: sql_db_query_checker\n",
      "Action Input: SELECT u.name, c.question FROM public.user AS u JOIN public.chat_history_insa AS c ON u.id = c.id WHERE u.name = '신재경' ORDER BY c.create_date DESC LIMIT 1\u001b[0m\u001b[36;1m\u001b[1;3mSELECT u.name, c.question FROM public.user AS u JOIN public.chat_history_insa AS c ON u.id = c.id WHERE u.name = '신재경' ORDER BY c.create_date DESC LIMIT 1\u001b[0m\u001b[32;1m\u001b[1;3mThought: I now know the final answer\n",
      "Final Answer: 사용자명 '신재경'이 가장 마지막으로 등록한 1개의 인사와 관련된 질문은 \"전배 신청 절차 좀 알려줘\"입니다.\u001b[0m\n",
      "\n",
      "\u001b[1m> Finished chain.\u001b[0m\n"
     ]
    },
    {
     "data": {
      "text/plain": [
       "{'input': \"사용자명 '신재경'이 가장 마지막으로 등록한 1개의 인사와 관련된 질문이 뭐야?\",\n",
       " 'output': '사용자명 \\'신재경\\'이 가장 마지막으로 등록한 1개의 인사와 관련된 질문은 \"전배 신청 절차 좀 알려줘\"입니다.'}"
      ]
     },
     "execution_count": 50,
     "metadata": {},
     "output_type": "execute_result"
    }
   ],
   "source": [
    "agent_executor.invoke(\n",
    "    \"사용자명 '신재경'이 가장 마지막으로 등록한 1개의 인사와 관련된 질문이 뭐야?\"\n",
    ")"
   ]
  }
 ],
 "metadata": {
  "kernelspec": {
   "display_name": "langchain-kr-Tm8hKy1O-py3.11",
   "language": "python",
   "name": "python3"
  },
  "language_info": {
   "codemirror_mode": {
    "name": "ipython",
    "version": 3
   },
   "file_extension": ".py",
   "mimetype": "text/x-python",
   "name": "python",
   "nbconvert_exporter": "python",
   "pygments_lexer": "ipython3",
   "version": "3.11.9"
  }
 },
 "nbformat": 4,
 "nbformat_minor": 2
}
