{
 "cells": [
  {
   "cell_type": "code",
   "execution_count": 8,
   "metadata": {},
   "outputs": [],
   "source": [
    "import pandas as pd\n",
    "import gspread\n",
    "\n",
    "from typing import Any\n",
    "\n",
    "json_file_path = \"./data/drive-sheet-01.json\""
   ]
  },
  {
   "cell_type": "code",
   "execution_count": 9,
   "metadata": {},
   "outputs": [],
   "source": [
    "def googleSpreadData(url: str) -> Any:\n",
    "    if url is None:\n",
    "        return None\n",
    "    \n",
    "    gc = gspread.service_account(filename=json_file_path)\n",
    "    # url = url\n",
    "\n",
    "    ## 4. PythonSheet url을 바탕으로 스프레드 시트를 열고,\n",
    "    doc = gc.open_by_url(url)\n",
    "\n",
    "    workDf = pd.DataFrame()\n",
    "    # print(doc.worksheets()[0].title)\n",
    "    for sheet in doc.worksheets():\n",
    "        print(sheet.title)\n",
    "        data = doc.worksheet(sheet.title).get_all_values()\n",
    "        df = pd.DataFrame(data[1:], columns=data[0])\n",
    "        df['name'] = sheet.title\n",
    "        workDf = pd.concat([workDf, df], ignore_index= True)\n",
    "    # print(workDf)\n",
    "    \n",
    "    return workDf"
   ]
  },
  {
   "cell_type": "code",
   "execution_count": 10,
   "metadata": {},
   "outputs": [],
   "source": [
    "from langchain.tools import tool\n",
    "\n",
    "@tool\n",
    "def searchSheetData(query:str) -> str:\n",
    "    \"\"\"Search for things done by person's name\"\"\"\n",
    "    \n",
    "    url = 'https://docs.google.com/spreadsheets/d/1rW-nTz7P69BHGCtp0amownjnuc2OJmFzJrQFoAfeKnc'\n",
    "    dataDf = googleSpreadData(url)\n",
    "    print(dataDf.head())\n",
    "    return None"
   ]
  },
  {
   "cell_type": "code",
   "execution_count": 11,
   "metadata": {},
   "outputs": [
    {
     "name": "stdout",
     "output_type": "stream",
     "text": [
      "퍼머넌트\n",
      "    Code      이름     거리    상승고도   제한시간    출발점    도착점           코스설계자  name\n",
      "0  PT-02    푸른마음  202km  2,583m  13:28     왜관     왜관  Russell Morris  퍼머넌트\n",
      "1  PT-03     강화도  210km  1,356m  14:00  서울 반포  서울 반포       Jason Ham  퍼머넌트\n",
      "2  PT-04    모래시계  200km  2,191m  13:20  서울 반포  서울 반포       Jason Ham  퍼머넌트\n",
      "3  PT-05  굿모닝 남해  202km  2,163m  13:28  부산 사상  부산 사상    Jan Boonstra  퍼머넌트\n",
      "4  PT-06   인천-대전  214km  2,516m  14:16     인천     대전       Jason Ham  퍼머넌트\n"
     ]
    }
   ],
   "source": [
    "searchSheetData.invoke({\"query\": \"\"})"
   ]
  },
  {
   "cell_type": "markdown",
   "metadata": {},
   "source": [
    "### CSV-Excel-Agent 사용해보기"
   ]
  },
  {
   "cell_type": "code",
   "execution_count": 22,
   "metadata": {},
   "outputs": [
    {
     "name": "stdout",
     "output_type": "stream",
     "text": [
      "퍼머넌트\n"
     ]
    }
   ],
   "source": [
    "from langchain_experimental.tools import PythonAstREPLTool\n",
    "\n",
    "# 파이썬 코드를 실행하는 도구를 생성합니다.\n",
    "python_tool = PythonAstREPLTool()\n",
    "\n",
    "url = 'https://docs.google.com/spreadsheets/d/1rW-nTz7P69BHGCtp0amownjnuc2OJmFzJrQFoAfeKnc'\n",
    "df = googleSpreadData(url)\n",
    "python_tool.locals[\"df\"] = df\n",
    "\n",
    "\n",
    "# 도구 호출 시 실행되는 콜백 함수입니다.\n",
    "def tool_callback(tool) -> None:\n",
    "    print(f\"<<<<<<< Code >>>>>>\")\n",
    "    if tool_name := tool.get(\"tool\"):  # 도구에 입력된 값이 있다면\n",
    "        if tool_name == \"python_repl_ast\":\n",
    "            tool_input = tool.get(\"tool_input\")\n",
    "            for k, v in tool_input.items():\n",
    "                if k == \"query\":\n",
    "                    print(f\"query : {v}\")  # Query 를 출력합니다.\n",
    "                    result = python_tool.invoke({\"query\": v})\n",
    "                    print(result)\n",
    "    print(f\"<<<<<<< Code >>>>>>\")\n",
    "\n",
    "\n",
    "# 관찰 결과를 출력하는 콜백 함수입니다.\n",
    "def observation_callback(observation) -> None:\n",
    "    print(f\"<<<<<<< Message >>>>>>\")\n",
    "    if \"observation\" in observation:\n",
    "        print(observation[\"observation\"])\n",
    "    print(f\"<<<<<<< Message >>>>>>\")\n",
    "\n",
    "\n",
    "# 최종 결과를 출력하는 콜백 함수입니다.\n",
    "def result_callback(result: str) -> None:\n",
    "    print(f\"<<<<<<< 최종 답변 >>>>>>\")\n",
    "    print(result)\n",
    "    print(f\"<<<<<<< 최종 답변 >>>>>>\")"
   ]
  },
  {
   "cell_type": "code",
   "execution_count": 23,
   "metadata": {},
   "outputs": [],
   "source": [
    "from langchain_experimental.agents.agent_toolkits import create_pandas_dataframe_agent\n",
    "from langchain.agents.agent_types import AgentType\n",
    "from langchain_openai import ChatOpenAI\n",
    "from langchain_teddynote.messages import AgentStreamParser, AgentCallbacks\n",
    "\n",
    "agent = create_pandas_dataframe_agent(\n",
    "    ChatOpenAI(model=\"gpt-4o\", temperature=0),\n",
    "    df,\n",
    "    verbose=False,\n",
    "    agent_type=\"tool-calling\",\n",
    "    allow_dangerous_code=True,\n",
    "    prefix=\"You are a professional data analyst and expert in Pandas. \"\n",
    "    \"You must use Pandas DataFrame(`df`) to answer user's request. \"\n",
    "    \"\\n\\n[IMPORTANT] DO NOT create or overwrite the `df` variable in your code. \\n\\n\"\n",
    "    \"If you are willing to generate visualization code, please use `plt.show()` at the end of your code. \"\n",
    "    \"I prefer seaborn code for visualization, but you can use matplotlib as well.\",\n",
    ")\n",
    "\n",
    "parser_callback = AgentCallbacks(tool_callback, observation_callback, result_callback)\n",
    "stream_parser = AgentStreamParser(parser_callback)"
   ]
  },
  {
   "cell_type": "code",
   "execution_count": 24,
   "metadata": {},
   "outputs": [],
   "source": [
    "def ask(query):\n",
    "    # 질의에 대한 답변을 출력합니다.\n",
    "    response = agent.stream({\"input\": query})\n",
    "\n",
    "    for step in response:\n",
    "        stream_parser.process_agent_steps(step)"
   ]
  },
  {
   "cell_type": "code",
   "execution_count": 17,
   "metadata": {},
   "outputs": [
    {
     "name": "stdout",
     "output_type": "stream",
     "text": [
      "<<<<<<< Code >>>>>>\n",
      "len(df)\n",
      "164\n",
      "<<<<<<< Code >>>>>>\n",
      "<<<<<<< Message >>>>>>\n",
      "164\n",
      "<<<<<<< Message >>>>>>\n",
      "<<<<<<< 최종 답변 >>>>>>\n",
      "데이터프레임에는 총 164개의 행이 있습니다.\n",
      "<<<<<<< 최종 답변 >>>>>>\n"
     ]
    }
   ],
   "source": [
    "ask(\"몇 개의 행이 있어?\")"
   ]
  },
  {
   "cell_type": "code",
   "execution_count": 19,
   "metadata": {},
   "outputs": [
    {
     "name": "stdout",
     "output_type": "stream",
     "text": [
      "<<<<<<< Code >>>>>>\n",
      "df[df['출발점'] == '서울 여의도']\n",
      "     Code        이름     거리    상승고도   제한시간     출발점     도착점 코스설계자  name\n",
      "20  PT-26  청평호와 호명산  257.0  3,096m  17:08  서울 여의도  서울 여의도   장남식  퍼머넌트\n",
      "21  PT-28       교동도  204.0  1,375m  13:36  서울 여의도  서울 여의도   장남식  퍼머넌트\n",
      "<<<<<<< Code >>>>>>\n",
      "<<<<<<< Message >>>>>>\n",
      "     Code        이름     거리    상승고도   제한시간     출발점     도착점 코스설계자  name\n",
      "20  PT-26  청평호와 호명산  257.0  3,096m  17:08  서울 여의도  서울 여의도   장남식  퍼머넌트\n",
      "21  PT-28       교동도  204.0  1,375m  13:36  서울 여의도  서울 여의도   장남식  퍼머넌트\n",
      "<<<<<<< Message >>>>>>\n",
      "<<<<<<< Code >>>>>>\n",
      "longest_course = df.loc[df['거리'].str.replace('km', '').astype(float).idxmax()]\n",
      "longest_course_name = longest_course['이름']\n",
      "longest_course_distance = longest_course['거리']\n",
      "longest_course_name, longest_course_distance\n",
      "AttributeError: Can only use .str accessor with string values!\n",
      "<<<<<<< Code >>>>>>\n",
      "<<<<<<< Message >>>>>>\n",
      "AttributeError: Can only use .str accessor with string values!\n",
      "<<<<<<< Message >>>>>>\n",
      "<<<<<<< Code >>>>>>\n",
      "df['거리'] = df['거리'].str.replace('km', '').astype(float)\n",
      "longest_course = df.loc[df['거리'].idxmax()]\n",
      "longest_course_name = longest_course['이름']\n",
      "longest_course_distance = longest_course['거리']\n",
      "longest_course_name, longest_course_distance\n",
      "AttributeError: Can only use .str accessor with string values!\n",
      "<<<<<<< Code >>>>>>\n",
      "<<<<<<< Message >>>>>>\n",
      "AttributeError: Can only use .str accessor with string values!\n",
      "<<<<<<< Message >>>>>>\n",
      "<<<<<<< Code >>>>>>\n",
      "# Check the data type of the '거리' column to understand the issue\n",
      "df['거리'].dtype\n",
      "float64\n",
      "<<<<<<< Code >>>>>>\n",
      "<<<<<<< Message >>>>>>\n",
      "float64\n",
      "<<<<<<< Message >>>>>>\n",
      "<<<<<<< Code >>>>>>\n",
      "# Since the '거리' column is already in float, we can directly find the longest course\n",
      "longest_course = df.loc[df['거리'].idxmax()]\n",
      "longest_course_name = longest_course['이름']\n",
      "longest_course_distance = longest_course['거리']\n",
      "longest_course_name, longest_course_distance\n",
      "('하늘 아래 첫 고개', 464.0)\n",
      "<<<<<<< Code >>>>>>\n",
      "<<<<<<< Message >>>>>>\n",
      "('하늘 아래 첫 고개', 464.0)\n",
      "<<<<<<< Message >>>>>>\n",
      "<<<<<<< 최종 답변 >>>>>>\n",
      "서울 여의도에서 시작하는 코스 이름들은 \"청평호와 호명산\"과 \"교동도\"입니다. \n",
      "\n",
      "가장 긴 거리의 코스는 \"하늘 아래 첫 고개\"이며, 거리는 464.0 km입니다.\n",
      "<<<<<<< 최종 답변 >>>>>>\n"
     ]
    }
   ],
   "source": [
    "ask(\"서울 여의도에서 시작하는 코스 이름들과 가장 긴 거리의 코스가 어디이고 몇 km인지 알려줘\")"
   ]
  },
  {
   "cell_type": "code",
   "execution_count": 20,
   "metadata": {},
   "outputs": [
    {
     "name": "stdout",
     "output_type": "stream",
     "text": [
      "<<<<<<< Code >>>>>>\n",
      "shortest_course = df.loc[df['거리'].str.replace('km', '').astype(float).idxmin()]\n",
      "shortest_course_info = shortest_course[['출발점', '도착점', '거리', '이름', '코스설계자']]\n",
      "shortest_course_info.to_dict()\n",
      "AttributeError: Can only use .str accessor with string values!\n",
      "<<<<<<< Code >>>>>>\n",
      "<<<<<<< Message >>>>>>\n",
      "AttributeError: Can only use .str accessor with string values!\n",
      "<<<<<<< Message >>>>>>\n",
      "<<<<<<< Code >>>>>>\n",
      "df['거리'] = df['거리'].str.replace('km', '').astype(float)\n",
      "shortest_course = df.loc[df['거리'].idxmin()]\n",
      "shortest_course_info = shortest_course[['출발점', '도착점', '거리', '이름', '코스설계자']]\n",
      "shortest_course_info.to_dict()\n",
      "AttributeError: Can only use .str accessor with string values!\n",
      "<<<<<<< Code >>>>>>\n",
      "<<<<<<< Message >>>>>>\n",
      "AttributeError: Can only use .str accessor with string values!\n",
      "<<<<<<< Message >>>>>>\n",
      "<<<<<<< Code >>>>>>\n",
      "df['거리'] = df['거리'].astype(str).str.replace('km', '').astype(float)\n",
      "shortest_course = df.loc[df['거리'].idxmin()]\n",
      "shortest_course_info = shortest_course[['출발점', '도착점', '거리', '이름', '코스설계자']]\n",
      "shortest_course_info.to_dict()\n",
      "{'출발점': '서울 반포', '도착점': '서울 반포', '거리': 200.0, '이름': '모래시계', '코스설계자': 'Jason Ham'}\n",
      "<<<<<<< Code >>>>>>\n",
      "<<<<<<< Message >>>>>>\n",
      "{'출발점': '서울 반포', '도착점': '서울 반포', '거리': 200.0, '이름': '모래시계', '코스설계자': 'Jason Ham'}\n",
      "<<<<<<< Message >>>>>>\n",
      "<<<<<<< 최종 답변 >>>>>>\n",
      "거리가 가장 짧은 코스는 \"서울 반포\"에서 \"서울 반포\"까지이며, 그 거리는 200km입니다. 코스 이름은 \"모래시계\"이고, 코스 설계자는 Jason Ham입니다.\n",
      "<<<<<<< 최종 답변 >>>>>>\n"
     ]
    }
   ],
   "source": [
    "ask(\"거리가 가장 짧은 코스는 어디서 부터 어디까지 인지, 그리고 그 거리와 코스이름, 코스 설계자를 알려줘\")"
   ]
  },
  {
   "cell_type": "code",
   "execution_count": 25,
   "metadata": {},
   "outputs": [
    {
     "name": "stdout",
     "output_type": "stream",
     "text": [
      "<<<<<<< Code >>>>>>\n",
      "query : min_distance = df['거리'].apply(lambda x: int(x.replace('km', ''))).min()\n",
      "min_distance_courses = df[df['거리'].apply(lambda x: int(x.replace('km', ''))) == min_distance]\n",
      "min_distance, min_distance_courses[['이름', '출발점', '도착점']]\n",
      "(200,             이름    출발점    도착점\n",
      "2         모래시계  서울 반포  서울 반포\n",
      "18   아름다운 길 함양     함양     함양\n",
      "33     충주 어드밴처  서울 잠실     충주\n",
      "43         경춘선  서울 당산     춘천\n",
      "49       스카이시티     인천     인천\n",
      "87     밀양 어드벤처     밀양     밀양\n",
      "137      파주 뱅뱅  서울 마포  서울 마포\n",
      "138        사선대     전주     전주\n",
      "142      한강 투어  서울 반포  서울 반포\n",
      "161  제주 긴꼬리벵에돔    제주시    제주시)\n",
      "<<<<<<< Code >>>>>>\n",
      "<<<<<<< Message >>>>>>\n",
      "(200,             이름    출발점    도착점\n",
      "2         모래시계  서울 반포  서울 반포\n",
      "18   아름다운 길 함양     함양     함양\n",
      "33     충주 어드밴처  서울 잠실     충주\n",
      "43         경춘선  서울 당산     춘천\n",
      "49       스카이시티     인천     인천\n",
      "87     밀양 어드벤처     밀양     밀양\n",
      "137      파주 뱅뱅  서울 마포  서울 마포\n",
      "138        사선대     전주     전주\n",
      "142      한강 투어  서울 반포  서울 반포\n",
      "161  제주 긴꼬리벵에돔    제주시    제주시)\n",
      "<<<<<<< Message >>>>>>\n",
      "<<<<<<< 최종 답변 >>>>>>\n",
      "거리가 가장 짧은 코스들은 200km입니다. 해당 코스들의 이름과 시작지점, 종료지점은 다음과 같습니다:\n",
      "\n",
      "1. 모래시계 - 출발점: 서울 반포, 도착점: 서울 반포\n",
      "2. 아름다운 길 함양 - 출발점: 함양, 도착점: 함양\n",
      "3. 충주 어드밴처 - 출발점: 서울 잠실, 도착점: 충주\n",
      "4. 경춘선 - 출발점: 서울 당산, 도착점: 춘천\n",
      "5. 스카이시티 - 출발점: 인천, 도착점: 인천\n",
      "6. 밀양 어드벤처 - 출발점: 밀양, 도착점: 밀양\n",
      "7. 파주 뱅뱅 - 출발점: 서울 마포, 도착점: 서울 마포\n",
      "8. 사선대 - 출발점: 전주, 도착점: 전주\n",
      "9. 한강 투어 - 출발점: 서울 반포, 도착점: 서울 반포\n",
      "10. 제주 긴꼬리벵에돔 - 출발점: 제주시, 도착점: 제주시\n",
      "<<<<<<< 최종 답변 >>>>>>\n"
     ]
    }
   ],
   "source": [
    "ask(\"거리가 가장 짧은 코스들은 몇 km인지와 코스 이름들, 시작지점 종료지점을 알려줘.\")"
   ]
  }
 ],
 "metadata": {
  "kernelspec": {
   "display_name": "langchain-kr-rxgpO8Wa-py3.11",
   "language": "python",
   "name": "python3"
  },
  "language_info": {
   "codemirror_mode": {
    "name": "ipython",
    "version": 3
   },
   "file_extension": ".py",
   "mimetype": "text/x-python",
   "name": "python",
   "nbconvert_exporter": "python",
   "pygments_lexer": "ipython3",
   "version": "3.11.9"
  }
 },
 "nbformat": 4,
 "nbformat_minor": 2
}
